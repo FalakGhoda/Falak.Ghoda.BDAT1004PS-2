{
 "cells": [
  {
   "cell_type": "markdown",
   "metadata": {},
   "source": [
    "# Answer 1"
   ]
  },
  {
   "cell_type": "code",
   "execution_count": 1,
   "metadata": {},
   "outputs": [
    {
     "data": {
      "text/plain": [
       "6"
      ]
     },
     "execution_count": 1,
     "metadata": {},
     "output_type": "execute_result"
    }
   ],
   "source": [
    "a = 0\n",
    "\n",
    "def b():\n",
    " global a\n",
    " a = c(a)\n",
    "    \n",
    "def c(a):\n",
    " return a + 2\n",
    "\n",
    "b()\n",
    "b()\n",
    "b()\n",
    "a"
   ]
  },
  {
   "cell_type": "markdown",
   "metadata": {},
   "source": [
    "The letter 'a' is treated as a global variable for the function. when 'b' is called it would take into consideration the value of 'a' which is defined in the fuction c which is a+2. hence, for the first time when we call the function b it would give the answer as 2 since it takes into consideraton the initial  value which is assigned to a and is added in the function to give us c(a)= 0+2; thenafter, when second time the function b is called, the function would now take the value of a as 2 and will add 2 to it to  give us the answer 4. and lastly, the third function when called would give us our answer as 6 since the function now takes the value of a as 4.\n",
    "\n",
    "This depicts that the a has a global scope. "
   ]
  },
  {
   "cell_type": "markdown",
   "metadata": {},
   "source": [
    "# Answer 2"
   ]
  },
  {
   "cell_type": "code",
   "execution_count": 32,
   "metadata": {},
   "outputs": [
    {
     "name": "stdout",
     "output_type": "stream",
     "text": [
      "1\n",
      "The file oodtype1.txt not found\n"
     ]
    }
   ],
   "source": [
    "def fileLength(filename1):\n",
    "    \n",
    "    try:\n",
    "        with open(filename1) as f:\n",
    "            print(len(f.readlines()))\n",
    "              \n",
    "    except:\n",
    "        print(\"The file oodtype1.txt not found\" )\n",
    "fileLength('bloodtype1.txt')\n",
    "fileLength('oodtype1.txt')"
   ]
  },
  {
   "cell_type": "markdown",
   "metadata": {},
   "source": [
    "# Answer 3"
   ]
  },
  {
   "cell_type": "code",
   "execution_count": 34,
   "metadata": {},
   "outputs": [
    {
     "name": "stdout",
     "output_type": "stream",
     "text": [
      "I am a Kangaroo located at coordinates (0,0)\n",
      "I am a Kangaroo located at coordinates (3,0)\n"
     ]
    }
   ],
   "source": [
    "class Marsupial:\n",
    "   \n",
    "    def __init__(self):\n",
    "        self.pouch = []\n",
    "        \n",
    "    def put_in_pouch(self, content):\n",
    "        self.pouch.append(content)\n",
    "        \n",
    "    def pouch_contents(self):\n",
    "        \n",
    "        return(self.pouch)\n",
    "    \n",
    "class Kangaroo(Marsupial):\n",
    "    \n",
    "    def __init__(self, x, y):\n",
    "        super().__init__()\n",
    "        self.x = x\n",
    "        self.y = y\n",
    "    \n",
    "    def jump(self, x, y):\n",
    "        self.x += x\n",
    "        self.y += y\n",
    "    \n",
    "    def __str__(self):\n",
    "        \n",
    "        return \"I am a Kangaroo located at coordinates ({},{})\".format(self.x, self.y)\n",
    "\n",
    "    \n",
    "m = Marsupial()\n",
    "m.put_in_pouch('doll')\n",
    "m.put_in_pouch('firetruck')\n",
    "m.put_in_pouch('kitten')\n",
    "m.pouch_contents()\n",
    "\n",
    "k = Kangaroo(0,0)\n",
    "\n",
    "print(k)\n",
    "k.put_in_pouch('doll')\n",
    "k.put_in_pouch('firetruck')\n",
    "k.put_in_pouch('kitten')\n",
    "k.pouch_contents()\n",
    "k.jump(1,0)\n",
    "k.jump(1,0)\n",
    "k.jump(1,0)\n",
    "\n",
    "print(k)"
   ]
  },
  {
   "cell_type": "markdown",
   "metadata": {},
   "source": [
    "# Answer 4"
   ]
  },
  {
   "cell_type": "code",
   "execution_count": null,
   "metadata": {},
   "outputs": [],
   "source": [
    "from tkinter import *\n",
    "root = Tk()\n",
    "\n",
    "class Mortgage(Frame):\n",
    "\n",
    "    def __init__(self, master):\n",
    "        \n",
    "        Frame.__init__(self, master)\n",
    "        labelLOAN_AMOUNT =Label(self,padx=15,text= 'Loan Amount:')\n",
    "        labelLOAN_AMOUNT.grid(row=1, column=0, columnspan=4)\n",
    "        \n",
    "        entryLOAN_AMOUNT= Entry(self)\n",
    "        entryLOAN_AMOUNT.grid(row=1, column=4, columnspan=4)\n",
    "\n",
    "\n",
    "        labelInterestrate1 =Label(self,padx=15,text= 'Interest Rate:')\n",
    "        labelInterestrate1.grid(row=2, column=0, columnspan=4)\n",
    "        \n",
    "        entryInterestrate1= Entry(self)\n",
    "        entryInterestrate1.grid(row=2, column=4, columnspan=4)\n",
    "\n",
    "\n",
    "        labeltermforloan =Label(self,padx=15,text= 'Loan Terms:')\n",
    "        labeltermforloan.grid(row=3, column=0, columnspan=4)\n",
    "        \n",
    "        entrytermforloan= Entry(self)\n",
    "        entrytermforloan.grid(row=3, column=4, columnspan=4)\n",
    "\n",
    "\n",
    "        buttonCompute_Mortage =Button(self,padx=15,text= 'Compute Mortgage')\n",
    "        buttonCompute_Mortage.grid(row=4, column=0, columnspan=4)\n",
    "        \n",
    "        entryCompute_Mortage= Entry(self)\n",
    "        entryCompute_Mortage.grid(row=4, column=4, columnspan=4)\n",
    "        \n",
    "class Calculator(Frame):\n",
    "\n",
    "    def __init__(self, master):\n",
    "        Frame.__init__(self, master)\n",
    "        \n",
    "        entryLOAN_AMOUNT= Entry(self)\n",
    "        entryLOAN_AMOUNT.grid(row=0, column=0, columnspan=4)\n",
    "\n",
    "        numbers = [['MC',  'M+', 'M-', 'MR'],\n",
    "           ['C', '\\u221A','x\\u00b2','+'],\n",
    "           ['7','8','9','-'],\n",
    "           ['4', '5','6','*'],\n",
    "           ['1','2', '3', '/'],\n",
    "           ['0', '.', '+-', '=']\n",
    "          ]\n",
    "        for r in range(6):\n",
    "            for c in range(4):\n",
    "                button= Button(self,padx=10,width=5,text= numbers[r][c])\n",
    "                button.grid(row=r+1, column=c)\n",
    "                \n",
    "mortgage = Mortgage(root)\n",
    "mortgage.pack(side=LEFT)\n",
    "\n",
    "calculator = Calculator(root)\n",
    "calculator.pack(side=RIGHT)\n",
    "\n",
    "\n",
    "root.mainloop()"
   ]
  },
  {
   "cell_type": "markdown",
   "metadata": {},
   "source": [
    "# Answer 5"
   ]
  },
  {
   "cell_type": "code",
   "execution_count": 5,
   "metadata": {},
   "outputs": [
    {
     "name": "stdout",
     "output_type": "stream",
     "text": [
      "Taking x=1\n",
      "1\n",
      "Taking x=10\n",
      "10\n",
      "5\n",
      "16\n",
      "8\n",
      "4\n",
      "2\n",
      "1\n"
     ]
    }
   ],
   "source": [
    "def collatz(x): \n",
    "\n",
    "    while x != 1: \n",
    "        print(x, end = '\\n') \n",
    "  \n",
    "        if x & 1: \n",
    "            x = 3 * x + 1\n",
    "\n",
    "        else: \n",
    "            x = x // 2\n",
    " \n",
    "    print(x) \n",
    "print('Taking x=1')\n",
    "collatz(1)\n",
    "\n",
    "print('Taking x=10')\n",
    "collatz(10)"
   ]
  },
  {
   "cell_type": "markdown",
   "metadata": {},
   "source": [
    "# Answer 6"
   ]
  },
  {
   "cell_type": "code",
   "execution_count": 21,
   "metadata": {
    "scrolled": true
   },
   "outputs": [],
   "source": [
    "def binary(x): \n",
    "    \n",
    "    if x == 0: \n",
    "        return 0\n",
    "    \n",
    "    else: \n",
    "        return (x % 2 + 10 * binary(int(x // 2)))\n",
    "                 \n",
    "\n",
    "\n",
    "    print(binary(x))"
   ]
  },
  {
   "cell_type": "code",
   "execution_count": 22,
   "metadata": {},
   "outputs": [
    {
     "data": {
      "text/plain": [
       "0"
      ]
     },
     "execution_count": 22,
     "metadata": {},
     "output_type": "execute_result"
    }
   ],
   "source": [
    "binary(0)"
   ]
  },
  {
   "cell_type": "code",
   "execution_count": 23,
   "metadata": {},
   "outputs": [
    {
     "data": {
      "text/plain": [
       "1001"
      ]
     },
     "execution_count": 23,
     "metadata": {},
     "output_type": "execute_result"
    }
   ],
   "source": [
    "binary(9)"
   ]
  },
  {
   "cell_type": "code",
   "execution_count": 24,
   "metadata": {},
   "outputs": [
    {
     "data": {
      "text/plain": [
       "1"
      ]
     },
     "execution_count": 24,
     "metadata": {},
     "output_type": "execute_result"
    }
   ],
   "source": [
    "binary(1)"
   ]
  },
  {
   "cell_type": "markdown",
   "metadata": {},
   "source": [
    "# Answer 7"
   ]
  },
  {
   "cell_type": "code",
   "execution_count": 59,
   "metadata": {},
   "outputs": [
    {
     "ename": "UnicodeDecodeError",
     "evalue": "'charmap' codec can't decode byte 0x9d in position 37540: character maps to <undefined>",
     "output_type": "error",
     "traceback": [
      "\u001b[1;31m---------------------------------------------------------------------------\u001b[0m",
      "\u001b[1;31mUnicodeDecodeError\u001b[0m                        Traceback (most recent call last)",
      "\u001b[1;32m<ipython-input-59-135c22e072d2>\u001b[0m in \u001b[0;36m<module>\u001b[1;34m\u001b[0m\n\u001b[0;32m     31\u001b[0m \u001b[1;33m\u001b[0m\u001b[0m\n\u001b[0;32m     32\u001b[0m \u001b[0minfile\u001b[0m \u001b[1;33m=\u001b[0m \u001b[0mopen\u001b[0m\u001b[1;33m(\u001b[0m\u001b[1;34m'W3C.html'\u001b[0m\u001b[1;33m)\u001b[0m\u001b[1;33m\u001b[0m\u001b[1;33m\u001b[0m\u001b[0m\n\u001b[1;32m---> 33\u001b[1;33m \u001b[0mcontent\u001b[0m \u001b[1;33m=\u001b[0m \u001b[0minfile\u001b[0m\u001b[1;33m.\u001b[0m\u001b[0mread\u001b[0m\u001b[1;33m(\u001b[0m\u001b[1;33m)\u001b[0m\u001b[1;33m\u001b[0m\u001b[1;33m\u001b[0m\u001b[0m\n\u001b[0m\u001b[0;32m     34\u001b[0m \u001b[0minfile\u001b[0m\u001b[1;33m.\u001b[0m\u001b[0mclose\u001b[0m\u001b[1;33m(\u001b[0m\u001b[1;33m)\u001b[0m\u001b[1;33m\u001b[0m\u001b[1;33m\u001b[0m\u001b[0m\n\u001b[0;32m     35\u001b[0m \u001b[0mhp\u001b[0m \u001b[1;33m=\u001b[0m \u001b[0mHeadingParser\u001b[0m\u001b[1;33m(\u001b[0m\u001b[1;33m)\u001b[0m\u001b[1;33m\u001b[0m\u001b[1;33m\u001b[0m\u001b[0m\n",
      "\u001b[1;32m~\\anaconda3\\lib\\encodings\\cp1252.py\u001b[0m in \u001b[0;36mdecode\u001b[1;34m(self, input, final)\u001b[0m\n\u001b[0;32m     21\u001b[0m \u001b[1;32mclass\u001b[0m \u001b[0mIncrementalDecoder\u001b[0m\u001b[1;33m(\u001b[0m\u001b[0mcodecs\u001b[0m\u001b[1;33m.\u001b[0m\u001b[0mIncrementalDecoder\u001b[0m\u001b[1;33m)\u001b[0m\u001b[1;33m:\u001b[0m\u001b[1;33m\u001b[0m\u001b[1;33m\u001b[0m\u001b[0m\n\u001b[0;32m     22\u001b[0m     \u001b[1;32mdef\u001b[0m \u001b[0mdecode\u001b[0m\u001b[1;33m(\u001b[0m\u001b[0mself\u001b[0m\u001b[1;33m,\u001b[0m \u001b[0minput\u001b[0m\u001b[1;33m,\u001b[0m \u001b[0mfinal\u001b[0m\u001b[1;33m=\u001b[0m\u001b[1;32mFalse\u001b[0m\u001b[1;33m)\u001b[0m\u001b[1;33m:\u001b[0m\u001b[1;33m\u001b[0m\u001b[1;33m\u001b[0m\u001b[0m\n\u001b[1;32m---> 23\u001b[1;33m         \u001b[1;32mreturn\u001b[0m \u001b[0mcodecs\u001b[0m\u001b[1;33m.\u001b[0m\u001b[0mcharmap_decode\u001b[0m\u001b[1;33m(\u001b[0m\u001b[0minput\u001b[0m\u001b[1;33m,\u001b[0m\u001b[0mself\u001b[0m\u001b[1;33m.\u001b[0m\u001b[0merrors\u001b[0m\u001b[1;33m,\u001b[0m\u001b[0mdecoding_table\u001b[0m\u001b[1;33m)\u001b[0m\u001b[1;33m[\u001b[0m\u001b[1;36m0\u001b[0m\u001b[1;33m]\u001b[0m\u001b[1;33m\u001b[0m\u001b[1;33m\u001b[0m\u001b[0m\n\u001b[0m\u001b[0;32m     24\u001b[0m \u001b[1;33m\u001b[0m\u001b[0m\n\u001b[0;32m     25\u001b[0m \u001b[1;32mclass\u001b[0m \u001b[0mStreamWriter\u001b[0m\u001b[1;33m(\u001b[0m\u001b[0mCodec\u001b[0m\u001b[1;33m,\u001b[0m\u001b[0mcodecs\u001b[0m\u001b[1;33m.\u001b[0m\u001b[0mStreamWriter\u001b[0m\u001b[1;33m)\u001b[0m\u001b[1;33m:\u001b[0m\u001b[1;33m\u001b[0m\u001b[1;33m\u001b[0m\u001b[0m\n",
      "\u001b[1;31mUnicodeDecodeError\u001b[0m: 'charmap' codec can't decode byte 0x9d in position 37540: character maps to <undefined>"
     ]
    }
   ],
   "source": [
    "from html.parser import HTMLParser\n",
    "class HeadingParser(HTMLParser):\n",
    "    \n",
    "    def __init__(self):\n",
    "        HTMLParser.__init__(self)\n",
    "        self.headingTag1=\"\"\n",
    "    \n",
    "    def handle_starttag(self,tag,attrs):\n",
    "        self.headingTag1=tag\n",
    "        \n",
    "    def handle_data(self, data):\n",
    "        if(self.headingTag1==\"h1\"):\n",
    "            print(data)\n",
    "            self.headingTag1=\"\"\n",
    "        elif(self.headingTag1==\"h2\"):\n",
    "            print(' ' *1,data)\n",
    "            self.headingTag1=\"\"\n",
    "        elif(self.headingTag1==\"h3\"):\n",
    "            print(' ' * 2,data)\n",
    "            self.headingTag1=\"\"\n",
    "        elif(self.headingTag1==\"h4\"):\n",
    "            print(' ' * 3,data)\n",
    "            self.headingTag1=\"\"\n",
    "        elif(self.headingTag1==\"h5\"):\n",
    "            print(' ' * 4,data)\n",
    "            self.headingTag1=\"\"\n",
    "        elif(self.headingTag1==\"h6\"):\n",
    "            print(' ' * 5,data)\n",
    "            self.headingTag1=\"\"\n",
    "      \n",
    "                    \n",
    "infile = open('W3C.html')\n",
    "content = infile.read()\n",
    "infile.close()\n",
    "hp = HeadingParser()\n",
    "hp.feed(content)"
   ]
  },
  {
   "cell_type": "markdown",
   "metadata": {},
   "source": [
    "# Answer 9"
   ]
  },
  {
   "cell_type": "code",
   "execution_count": 15,
   "metadata": {},
   "outputs": [],
   "source": [
    "import sqlite3\n",
    "CON1 = sqlite3.connect('web1.db')\n",
    "CUR1 = CON1.cursor()\n",
    "CUR1.execute(\"CREATE TABLE Weather_data (City text,Country text,Season text,Temperature float,Rainfall float)\")\n",
    "CUR1.execute(\"INSERT INTO Weather_data VALUES ('Mumbai', 'India', 'Winter', 24.8, 5.9)\")\n",
    "CUR1.execute(\"INSERT INTO Weather_data VALUES ('Mumbai', 'India', 'Spring', 28.4, 16.2)\")\n",
    "CUR1.execute(\"INSERT INTO Weather_data VALUES ('Mumbai', 'India', 'Summer', 27.9, 1549.4)\")\n",
    "CUR1.execute(\"INSERT INTO Weather_data VALUES ('Mumbai', 'India', 'Fall', 27.6, 346.0)\")\n",
    "CUR1.execute(\"INSERT INTO Weather_data VALUES ('London', 'United Kingdom', 'Winter', 4.2, 207.7)\")\n",
    "CUR1.execute(\"INSERT INTO Weather_data VALUES ('London', 'United Kingdom', 'Spring', 8.3, 169.6)\")\n",
    "CUR1.execute(\"INSERT INTO Weather_data VALUES ('London', 'United Kingdom', 'Summer', 15.7, 157.0)\")\n",
    "CUR1.execute(\"INSERT INTO Weather_data VALUES ('London', 'United Kingdom', 'Fall', 10.4, 218.5)\")\n",
    "CUR1.execute(\"INSERT INTO Weather_data VALUES ('Cairo', 'Egypt', 'Winter', 13.6, 16.5)\")\n",
    "CUR1.execute(\"INSERT INTO Weather_data VALUES ('Cairo', 'Egypt', 'Spring', 20.7, 6.5)\")\n",
    "CUR1.execute(\"INSERT INTO Weather_data VALUES ('Cairo', 'Egypt', 'Summer', 27.7, 0.1)\")\n",
    "CUR1.execute(\"INSERT INTO Weather_data VALUES ('Cairo', 'Egypt', 'Fall', 22.2, 4.5)\")\n",
    "CON1.commit()\n",
    "CON1.close()"
   ]
  },
  {
   "cell_type": "markdown",
   "metadata": {},
   "source": [
    "# A"
   ]
  },
  {
   "cell_type": "code",
   "execution_count": 30,
   "metadata": {},
   "outputs": [
    {
     "data": {
      "text/plain": [
       "[(24.8,),\n",
       " (28.4,),\n",
       " (27.9,),\n",
       " (27.6,),\n",
       " (4.2,),\n",
       " (8.3,),\n",
       " (15.7,),\n",
       " (10.4,),\n",
       " (13.6,),\n",
       " (20.7,),\n",
       " (27.7,),\n",
       " (22.2,)]"
      ]
     },
     "execution_count": 30,
     "metadata": {},
     "output_type": "execute_result"
    }
   ],
   "source": [
    "import sqlite3\n",
    "CON1 = sqlite3.connect('web1.db')\n",
    "CUR1 = CON1.cursor()\n",
    "CUR1.execute('SELECT Temperature FROM Weather_data')\n",
    "CUR1.fetchall()"
   ]
  },
  {
   "cell_type": "markdown",
   "metadata": {},
   "source": [
    "# B"
   ]
  },
  {
   "cell_type": "code",
   "execution_count": 31,
   "metadata": {},
   "outputs": [
    {
     "data": {
      "text/plain": [
       "[('Mumbai',), ('London',), ('Cairo',)]"
      ]
     },
     "execution_count": 31,
     "metadata": {},
     "output_type": "execute_result"
    }
   ],
   "source": [
    "import sqlite3\n",
    "CON1 = sqlite3.connect('web1.db')\n",
    "CUR1 = CON1.cursor()\n",
    "CUR1.execute('SELECT DISTINCT City FROM Weather_data')\n",
    "CUR1.fetchall()"
   ]
  },
  {
   "cell_type": "markdown",
   "metadata": {},
   "source": [
    "# C"
   ]
  },
  {
   "cell_type": "code",
   "execution_count": 32,
   "metadata": {},
   "outputs": [
    {
     "data": {
      "text/plain": [
       "[('Mumbai', 'India', 'Winter', 24.8, 5.9),\n",
       " ('Mumbai', 'India', 'Spring', 28.4, 16.2),\n",
       " ('Mumbai', 'India', 'Summer', 27.9, 1549.4),\n",
       " ('Mumbai', 'India', 'Fall', 27.6, 346.0)]"
      ]
     },
     "execution_count": 32,
     "metadata": {},
     "output_type": "execute_result"
    }
   ],
   "source": [
    "import sqlite3\n",
    "CON1 = sqlite3.connect('web1.db')\n",
    "CUR1 = CON1.cursor()\n",
    "CUR1.execute(\"SELECT * FROM Weather_data WHERE Country = 'India'\")\n",
    "CUR1.fetchall()"
   ]
  },
  {
   "cell_type": "markdown",
   "metadata": {},
   "source": [
    "# D"
   ]
  },
  {
   "cell_type": "code",
   "execution_count": 33,
   "metadata": {},
   "outputs": [
    {
     "data": {
      "text/plain": [
       "[('Mumbai', 'India', 'Fall', 27.6, 346.0),\n",
       " ('London', 'United Kingdom', 'Fall', 10.4, 218.5),\n",
       " ('Cairo', 'Egypt', 'Fall', 22.2, 4.5)]"
      ]
     },
     "execution_count": 33,
     "metadata": {},
     "output_type": "execute_result"
    }
   ],
   "source": [
    "import sqlite3\n",
    "CON1 = sqlite3.connect('web1.db')\n",
    "CUR1 = CON1.cursor()\n",
    "CUR1.execute(\"SELECT * FROM Weather_data WHERE Season = 'Fall'\")\n",
    "CUR1.fetchall()"
   ]
  },
  {
   "cell_type": "markdown",
   "metadata": {},
   "source": [
    "# E"
   ]
  },
  {
   "cell_type": "code",
   "execution_count": 34,
   "metadata": {},
   "outputs": [
    {
     "data": {
      "text/plain": [
       "[('Mumbai', 'India', 'Fall', 346.0),\n",
       " ('London', 'United Kingdom', 'Winter', 207.7),\n",
       " ('London', 'United Kingdom', 'Fall', 218.5)]"
      ]
     },
     "execution_count": 34,
     "metadata": {},
     "output_type": "execute_result"
    }
   ],
   "source": [
    "import sqlite3\n",
    "CON1 = sqlite3.connect('web1.db')\n",
    "CUR1 = CON1.cursor()\n",
    "CUR1.execute(\"SELECT City,Country,Season,Rainfall FROM Weather_data WHERE Rainfall BETWEEN 200 AND 400\")\n",
    "CUR1.fetchall()"
   ]
  },
  {
   "cell_type": "markdown",
   "metadata": {},
   "source": [
    "# F"
   ]
  },
  {
   "cell_type": "code",
   "execution_count": 35,
   "metadata": {},
   "outputs": [
    {
     "data": {
      "text/plain": [
       "[('Cairo', 'Egypt'), ('Mumbai', 'India')]"
      ]
     },
     "execution_count": 35,
     "metadata": {},
     "output_type": "execute_result"
    }
   ],
   "source": [
    "import sqlite3\n",
    "CON1 = sqlite3.connect('web1.db')\n",
    "CUR1 = CON1.cursor()\n",
    "CUR1.execute(\"SELECT City,Country FROM Weather_data WHERE Season='Fall' AND Temperature >= 20 ORDER BY Temperature ASC\")\n",
    "CUR1.fetchall()"
   ]
  },
  {
   "cell_type": "markdown",
   "metadata": {},
   "source": [
    "# G"
   ]
  },
  {
   "cell_type": "code",
   "execution_count": 36,
   "metadata": {},
   "outputs": [
    {
     "data": {
      "text/plain": [
       "[(27.6,)]"
      ]
     },
     "execution_count": 36,
     "metadata": {},
     "output_type": "execute_result"
    }
   ],
   "source": [
    "import sqlite3\n",
    "CON1 = sqlite3.connect('web1.db')\n",
    "CUR1 = CON1.cursor()\n",
    "CUR1.execute(\"SELECT SUM(Rainfall) FROM Weather_data WHERE City = 'Cairo'\")\n",
    "CUR1.fetchall()"
   ]
  },
  {
   "cell_type": "markdown",
   "metadata": {},
   "source": [
    "# H"
   ]
  },
  {
   "cell_type": "code",
   "execution_count": 37,
   "metadata": {},
   "outputs": [
    {
     "data": {
      "text/plain": [
       "[(2697.8999999999996,)]"
      ]
     },
     "execution_count": 37,
     "metadata": {},
     "output_type": "execute_result"
    }
   ],
   "source": [
    "import sqlite3\n",
    "CON1 = sqlite3.connect('web1.db')\n",
    "CUR1 = CON1.cursor()\n",
    "CUR1.execute(\"SELECT SUM(Rainfall) FROM Weather_data\")\n",
    "CUR1.fetchall()"
   ]
  },
  {
   "cell_type": "markdown",
   "metadata": {},
   "source": [
    "# Answer 10"
   ]
  },
  {
   "cell_type": "code",
   "execution_count": 41,
   "metadata": {},
   "outputs": [
    {
     "name": "stdout",
     "output_type": "stream",
     "text": [
      "List in Uppercase:  ['THE', 'QUICK', 'BROWN', 'FOX', 'JUMPS', 'OVER', 'THE', 'LAZY', 'DOG']\n",
      "List in Lowercase:  ['the', 'quick', 'brown', 'fox', 'jumps', 'over', 'the', 'lazy', 'dog']\n",
      "List lengths:  [3, 5, 5, 3, 5, 4, 3, 4, 3]\n",
      "List of Upper Lower and length:  [['THE', 'the', 3], ['QUICK', 'quick', 5], ['BROWN', 'brown', 5], ['FOX', 'fox', 3], ['JUMPS', 'jumps', 5], ['OVER', 'over', 4], ['THE', 'the', 3], ['LAZY', 'lazy', 4], ['DOG', 'dog', 3]]\n",
      "List having 4 ot more than 4 character:  ['quick', 'brown', 'jumps', 'over', 'lazy']\n"
     ]
    }
   ],
   "source": [
    "def Upper(WORD):\n",
    "    for a in range(len(WORD)):\n",
    "        WORD[a]=WORD[a].upper()\n",
    "    return WORD\n",
    "\n",
    "def Lower(WORD):\n",
    "    for a in range(len(WORD)):\n",
    "        WORD[a]=WORD[a].lower()\n",
    "    return WORD\n",
    "\n",
    "def Length(WORD):\n",
    "    list=[]\n",
    "    for a in range(len(WORD)):\n",
    "        list.append(len(WORD[a]))\n",
    "    return list\n",
    "\n",
    "def Low_Up_Len(WORD):\n",
    "    list=[]\n",
    "    temp=[]\n",
    "    for a in range(len(WORD)):\n",
    "        temp.append(WORD[a].upper())\n",
    "        temp.append(WORD[a].lower())\n",
    "        temp.append(len(WORD[a]))\n",
    "        list.append(temp)\n",
    "        temp=[]\n",
    "    return list\n",
    "\n",
    "def more_four(WORD):\n",
    "    list=[]\n",
    "    for a in range(len(WORD)):\n",
    "        if len(WORD[a])>=4:       \n",
    "            list.append(WORD[a])\n",
    "    return list\n",
    "\n",
    "WORD = ['The', 'quick', 'brown', 'fox', 'jumps', 'over', 'the', 'lazy', 'dog']\n",
    "\n",
    "print(\"List in Uppercase: \",Upper(WORD))\n",
    "print(\"List in Lowercase: \",Lower(WORD))\n",
    "print(\"List lengths: \",Length(WORD))\n",
    "print(\"List of Upper Lower and length: \",Low_Up_Len(WORD))\n",
    "print(\"List having 4 ot more than 4 character: \",more_four(WORD))"
   ]
  },
  {
   "cell_type": "code",
   "execution_count": null,
   "metadata": {},
   "outputs": [],
   "source": []
  }
 ],
 "metadata": {
  "kernelspec": {
   "display_name": "Python 3",
   "language": "python",
   "name": "python3"
  },
  "language_info": {
   "codemirror_mode": {
    "name": "ipython",
    "version": 3
   },
   "file_extension": ".py",
   "mimetype": "text/x-python",
   "name": "python",
   "nbconvert_exporter": "python",
   "pygments_lexer": "ipython3",
   "version": "3.8.3"
  }
 },
 "nbformat": 4,
 "nbformat_minor": 4
}
